{
 "cells": [
  {
   "cell_type": "markdown",
   "metadata": {},
   "source": [
    "# String Exercises"
   ]
  },
  {
   "cell_type": "code",
   "execution_count": 3,
   "metadata": {},
   "outputs": [
    {
     "data": {
      "text/plain": [
       "'FJSDA'"
      ]
     },
     "execution_count": 3,
     "metadata": {},
     "output_type": "execute_result"
    }
   ],
   "source": [
    "# uppercase a string\n",
    "a = 'fjsda'\n",
    "a.upper()"
   ]
  },
  {
   "cell_type": "code",
   "execution_count": 5,
   "metadata": {},
   "outputs": [
    {
     "data": {
      "text/plain": [
       "'Fjsda'"
      ]
     },
     "execution_count": 5,
     "metadata": {},
     "output_type": "execute_result"
    }
   ],
   "source": [
    "# Capitalize a string\n",
    "a.capitalize()"
   ]
  },
  {
   "cell_type": "code",
   "execution_count": 6,
   "metadata": {},
   "outputs": [
    {
     "data": {
      "text/plain": [
       "'adsjf'"
      ]
     },
     "execution_count": 6,
     "metadata": {},
     "output_type": "execute_result"
    }
   ],
   "source": [
    "# Reverse a string\n",
    "a[::-1]"
   ]
  },
  {
   "cell_type": "code",
   "execution_count": 26,
   "metadata": {},
   "outputs": [
    {
     "name": "stdout",
     "output_type": "stream",
     "text": [
      "The word: sef\n",
      "53F\n"
     ]
    }
   ],
   "source": [
    "# Leetspeak\n",
    "word = input('The word: ').upper()\n",
    "word = word.replace('A', '4')\n",
    "word = word.replace('E', '3')\n",
    "word = word.replace('G', '6')\n",
    "word = word.replace('I', '1')\n",
    "word = word.replace('O', '0')\n",
    "word = word.replace('S', '5')\n",
    "word = word.replace('T', '7')\n",
    "\n",
    "print(word)"
   ]
  },
  {
   "cell_type": "code",
   "execution_count": 49,
   "metadata": {},
   "outputs": [
    {
     "name": "stdout",
     "output_type": "stream",
     "text": [
      "man\n"
     ]
    }
   ],
   "source": [
    "# long-long vowels\n",
    "word = 'man'\n",
    "word = word.replace('ee', 'eeeee')\n",
    "word = word.replace('oo', 'ooooo')\n",
    "\n",
    "print(word)"
   ]
  },
  {
   "cell_type": "code",
   "execution_count": 50,
   "metadata": {},
   "outputs": [
    {
     "name": "stdout",
     "output_type": "stream",
     "text": [
      "you must unlearn, what you have learned.\n"
     ]
    }
   ],
   "source": [
    "# Ceaser \n",
    "secret = \"Lbh zhfg hayrnea, jung lbh unir yrnearq.\"\n",
    "# secret = \"hello\"\n",
    "offset = 13\n",
    "result = ''\n",
    "\n",
    "for char in secret:\n",
    "    code = ord(char.lower())\n",
    "    if code >= 97 and code <= 122:\n",
    "        code += offset\n",
    "        if code > 122:\n",
    "            code = code - 26\n",
    "\n",
    "    result += chr(code)\n",
    "    \n",
    "print(result)"
   ]
  }
 ],
 "metadata": {
  "kernelspec": {
   "display_name": "Python 3",
   "language": "python",
   "name": "python3"
  },
  "language_info": {
   "codemirror_mode": {
    "name": "ipython",
    "version": 3
   },
   "file_extension": ".py",
   "mimetype": "text/x-python",
   "name": "python",
   "nbconvert_exporter": "python",
   "pygments_lexer": "ipython3",
   "version": "3.6.3"
  }
 },
 "nbformat": 4,
 "nbformat_minor": 2
}
